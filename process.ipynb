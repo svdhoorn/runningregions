{
 "cells": [
  {
   "cell_type": "code",
   "execution_count": 1,
   "metadata": {},
   "outputs": [],
   "source": [
    "# Description\n",
    "\n",
    "# TODO\n",
    "# https://stackoverflow.com/questions/58257251/how-to-check-if-a-file-exists-in-another-folder\n",
    "\n",
    "# Requirements\n",
    "import os\n",
    "import geopandas as gpd\n",
    "import pandas as pd\n",
    "import pathlib\n",
    "\n",
    "# Parameters\n",
    "data_foldername = 'data'\n",
    "data_directory = pathlib.Path('.').absolute() / data_foldername\n",
    "data_directory = str(data_directory)\n",
    "data_directory = data_directory + '\\\\'\n",
    "\n",
    "gpx_foldername = 'gpxfiles'\n",
    "gpx_directory = pathlib.Path('.').absolute() / gpx_foldername\n",
    "\n",
    "#new_gpx_foldername = 'new_gpxfiles'\n",
    "#gpx_directory = pathlib.Path('.').absolute() / new_gpx_foldername \n",
    "\n",
    "#processed_gpx_foldername = 'processed_gpxfiles'\n",
    "#processed_gpx_directory = pathlib.Path('.').absolute() / processed_gpx_foldername \n",
    "\n",
    "# List of GeoPackage files to read\n",
    "gpkg_files = os.listdir(data_directory)"
   ]
  },
  {
   "cell_type": "code",
   "execution_count": 2,
   "metadata": {},
   "outputs": [
    {
     "name": "stdout",
     "output_type": "stream",
     "text": [
      "File Deleted successfully\n"
     ]
    }
   ],
   "source": [
    "## Proces for admin regions 0 (country-level)\n",
    "\n",
    "# Initialize an empty list to store GeoDataFrames\n",
    "gdf_list = []\n",
    "\n",
    "# Loop through each GeoPackage file and read the data\n",
    "for gpkg_file in gpkg_files:\n",
    "    # Read the GeoPackage file\n",
    "    gdf_file = gpd.read_file(os.path.join(data_directory,  gpkg_file), layer='ADM_ADM_0')\n",
    "\n",
    "    gdf_list.append(gdf_file)\n",
    "\n",
    "gdf_adm0 = pd.concat(gdf_list, ignore_index=True)\n",
    "\n",
    "# Reset the index of the merged GeoDataFrame\n",
    "gdf_adm0 = gdf_adm0.reset_index(drop=True)\n",
    "\n",
    "#gdf_adm0.explore()\n",
    "\n",
    "# Initialize an empty list to store GeoDataFrames\n",
    "gdf_adminregions_per_gpx = []\n",
    "\n",
    "# Proces per gpx-file\n",
    "for filename in os.listdir(gpx_directory):\n",
    "    if filename.endswith('.gpx'):\n",
    "        gpxfile = os.path.join(gpx_directory, filename)\n",
    "        gpx = gpd.read_file(gpxfile, layer='tracks')\n",
    "        gdf_gpxline = gpx[gpx['name'].str.contains(\"Running\")]\n",
    "        \n",
    "        # Perform the intersection\n",
    "        gdf_join = gpd.sjoin(left_df=gdf_adm0, right_df=gdf_gpxline,  how=\"inner\", predicate=\"intersects\")\n",
    "        #print(gdf_join)\n",
    "        \n",
    "        #Append data to temp gdf\n",
    "        gdf_adminregions_per_gpx.append(gdf_join)\n",
    "\n",
    "# Create gdf with information from all gpx-files\n",
    "gdf_runs_adm0 = gpd.GeoDataFrame( pd.concat(gdf_adminregions_per_gpx, ignore_index=True) )\n",
    "\n",
    "# Select columns\n",
    "#col_list = ['GID_0', 'COUNTRY', 'geometry']\n",
    "col_list = ['COUNTRY', 'geometry']\n",
    "gdf_runs_adm0 = gdf_runs_adm0[col_list]\n",
    "gdf_runs_adm0.columns = gdf_runs_adm0.columns.str.lower()\n",
    "\n",
    "\n",
    "gdf_runs_adm0 = gdf_runs_adm0.drop_duplicates([\"geometry\"])\n",
    "\n",
    "# Write geojsonfile\n",
    "if(os.path.isfile(\"adm_0.geojson\")):\n",
    "    os.remove(\"adm_0.geojson\")\n",
    "    print(\"File Deleted successfully\")\n",
    "else:\n",
    "    print(\"File does not exist\")\n",
    "\n",
    "gdf_runs_adm0.to_file(\"adm_0.geojson\", driver='GeoJSON')\n",
    "\n",
    "#gdf_runs_adm0.explore()\n",
    "#gdf_runs_adm0.head()"
   ]
  },
  {
   "cell_type": "code",
   "execution_count": 3,
   "metadata": {},
   "outputs": [
    {
     "name": "stdout",
     "output_type": "stream",
     "text": [
      "File Deleted successfully\n"
     ]
    }
   ],
   "source": [
    "## Proces for admin regions 1 (province-level)\n",
    "\n",
    "# Initialize an empty list to store GeoDataFrames\n",
    "gdf_list = []\n",
    "\n",
    "# Loop through each GeoPackage file and read the data\n",
    "for gpkg_file in gpkg_files:\n",
    "    # Read the GeoPackage file\n",
    "    gdf_file = gpd.read_file(os.path.join(data_directory,  gpkg_file), layer='ADM_ADM_1')\n",
    "    gdf_list.append(gdf_file)\n",
    "\n",
    "gdf_adm1 = pd.concat(gdf_list, ignore_index=True)\n",
    "\n",
    "gdf_adm1 = gdf_adm1[~gdf_adm1['ENGTYPE_1'].str.contains(\"Water body\")]\n",
    "\n",
    "# Reset the index of the merged GeoDataFrame\n",
    "gdf_adm1 = gdf_adm1.reset_index(drop=True)\n",
    "\n",
    "# Initialize an empty list to store GeoDataFrames\n",
    "gdf_adminregions_per_gpx = []\n",
    "\n",
    "# Proces per gpx-file\n",
    "for filename in os.listdir(gpx_directory):\n",
    "    if filename.endswith('.gpx'):\n",
    "        gpxfile = os.path.join(gpx_directory, filename)\n",
    "        gpx = gpd.read_file(gpxfile, layer='tracks')\n",
    "        gdf_gpxline = gpx[gpx['name'].str.contains(\"Running\")]\n",
    "\n",
    "        # Perform the intersection\n",
    "        gdf_join = gpd.sjoin(left_df=gdf_adm1, right_df=gdf_gpxline,  how=\"inner\", predicate=\"intersects\")\n",
    "        #print(gdf_join)\n",
    "        \n",
    "        #Append data to temp gdf\n",
    "        gdf_adminregions_per_gpx.append(gdf_join)\n",
    "\n",
    "# Create gdf with information from all gpx-files\n",
    "gdf_runs_adm1 = gpd.GeoDataFrame( pd.concat(gdf_adminregions_per_gpx, ignore_index=True) )\n",
    "\n",
    "# Select columns\n",
    "#col_list = ['GID_0', 'GID_1', 'COUNTRY', 'NAME_1', 'TYPE_1', 'geometry']\n",
    "col_list = ['COUNTRY', 'NAME_1', 'TYPE_1', 'geometry']\n",
    "gdf_runs_adm1 = gdf_runs_adm1[col_list]\n",
    "gdf_runs_adm1 = gdf_runs_adm1.rename(columns={\"NAME_1\": \"NAME\"})\n",
    "gdf_runs_adm1 = gdf_runs_adm1.rename(columns={\"TYPE_1\": \"TYPE\"})\n",
    "gdf_runs_adm1.columns = gdf_runs_adm1.columns.str.lower()\n",
    "\n",
    "gdf_runs_adm1 = gdf_runs_adm1.drop_duplicates([\"geometry\"])\n",
    "\n",
    "# Write geojsonfile\n",
    "if(os.path.isfile(\"adm_1.geojson\")):\n",
    "    os.remove(\"adm_1.geojson\")\n",
    "    print(\"File Deleted successfully\")\n",
    "else:\n",
    "    print(\"File does not exist\")\n",
    "\n",
    "gdf_runs_adm1.to_file(\"adm_1.geojson\", driver='GeoJSON')\n",
    "\n",
    "#gdf_runs_adm1.explore()\n",
    "#gdf_runs_adm1.head()"
   ]
  },
  {
   "cell_type": "code",
   "execution_count": 4,
   "metadata": {},
   "outputs": [
    {
     "name": "stdout",
     "output_type": "stream",
     "text": [
      "File Deleted successfully\n"
     ]
    }
   ],
   "source": [
    "## Proces for admin regions 2 (municipality-level)\n",
    "\n",
    "# Initialize an empty list to store GeoDataFrames\n",
    "gdf_list = []\n",
    "\n",
    "# Loop through each GeoPackage file and read the data\n",
    "for gpkg_file in gpkg_files:\n",
    "    # Read the GeoPackage file\n",
    "    gdf_file = gpd.read_file(os.path.join(data_directory,  gpkg_file), layer='ADM_ADM_2')\n",
    "    gdf_list.append(gdf_file)\n",
    "\n",
    "gdf_adm2 = pd.concat(gdf_list, ignore_index=True)\n",
    "\n",
    "gdf_adm2 = gdf_adm2[~gdf_adm2['ENGTYPE_2'].str.contains(\"Water body\")]\n",
    "\n",
    "# Reset the index of the merged GeoDataFrame\n",
    "gdf_adm2 = gdf_adm2.reset_index(drop=True)\n",
    "\n",
    "# Initialize an empty list to store GeoDataFrames\n",
    "gdf_adminregions_per_gpx = []\n",
    "\n",
    "# Proces per gpx-file\n",
    "for filename in os.listdir(gpx_directory):\n",
    "    if filename.endswith('.gpx'):\n",
    "        gpxfile = os.path.join(gpx_directory, filename)\n",
    "        gpx = gpd.read_file(gpxfile, layer='tracks')\n",
    "        gdf_gpxline = gpx[gpx['name'].str.contains(\"Running\")]\n",
    "        \n",
    "        # Perform the intersection\n",
    "        gdf_join = gpd.sjoin(left_df=gdf_adm2, right_df=gdf_gpxline,  how=\"inner\", predicate=\"intersects\")\n",
    "        #print(gdf_join)\n",
    "        \n",
    "        #Append data to temp gdf\n",
    "        gdf_adminregions_per_gpx.append(gdf_join)\n",
    "\n",
    "# Create gdf with information from all gpx-files\n",
    "gdf_runs_adm2 = gpd.GeoDataFrame( pd.concat(gdf_adminregions_per_gpx, ignore_index=True) )\n",
    "\n",
    "# Select columns\n",
    "#col_list = ['GID_0', 'GID_1', 'GID_2', 'COUNTRY', 'NAME_2', 'TYPE_2', 'geometry']\n",
    "col_list = ['COUNTRY', 'NAME_2', 'TYPE_2',  'geometry']\n",
    "gdf_runs_adm2 = gdf_runs_adm2[col_list]\n",
    "gdf_runs_adm2 = gdf_runs_adm2.rename(columns={\"NAME_2\": \"NAME\"})\n",
    "gdf_runs_adm2 = gdf_runs_adm2.rename(columns={\"TYPE_2\": \"TYPE\"})\n",
    "gdf_runs_adm2.columns = gdf_runs_adm2.columns.str.lower()\n",
    "\n",
    "gdf_runs_adm2 = gdf_runs_adm2.drop_duplicates([\"geometry\"])\n",
    "\n",
    "# Write geojsonfile\n",
    "if(os.path.isfile(\"adm_2.geojson\")):\n",
    "    os.remove(\"adm_2.geojson\")\n",
    "    print(\"File Deleted successfully\")\n",
    "else:\n",
    "    print(\"File does not exist\")\n",
    "\n",
    "gdf_runs_adm2.to_file(\"adm_2.geojson\", driver='GeoJSON')\n",
    "\n",
    "#gdf_runs_adm2.explore()\n",
    "#gdf_runs_adm2.head()"
   ]
  },
  {
   "cell_type": "code",
   "execution_count": 5,
   "metadata": {},
   "outputs": [],
   "source": [
    "# Useful statements\n",
    "\n",
    "# import fiona\n",
    "# layers = fiona.listlayers(file)"
   ]
  },
  {
   "cell_type": "code",
   "execution_count": 6,
   "metadata": {},
   "outputs": [
    {
     "data": {
      "text/plain": [
       "'\\n# Move data from new_gpxfiles dir to processed_gpxfiles dir\\n# gather all files in source folder\\nallfiles = os.listdir(gpx_directory)\\n \\n# iterate on all files to move them to destination folder\\nfor f in allfiles:\\n    src_path = os.path.join(gpx_directory, f)\\n    dst_path = os.path.join(processed_gpx_directory, f)\\n    os.rename(src_path, dst_path)\\n    '"
      ]
     },
     "execution_count": 6,
     "metadata": {},
     "output_type": "execute_result"
    }
   ],
   "source": [
    "'''\n",
    "# Move data from new_gpxfiles dir to processed_gpxfiles dir\n",
    "# gather all files in source folder\n",
    "allfiles = os.listdir(gpx_directory)\n",
    " \n",
    "# iterate on all files to move them to destination folder\n",
    "for f in allfiles:\n",
    "    src_path = os.path.join(gpx_directory, f)\n",
    "    dst_path = os.path.join(processed_gpx_directory, f)\n",
    "    os.rename(src_path, dst_path)\n",
    "    '''"
   ]
  }
 ],
 "metadata": {
  "kernelspec": {
   "display_name": "Python 3.10.11 64-bit",
   "language": "python",
   "name": "python3"
  },
  "language_info": {
   "codemirror_mode": {
    "name": "ipython",
    "version": 3
   },
   "file_extension": ".py",
   "mimetype": "text/x-python",
   "name": "python",
   "nbconvert_exporter": "python",
   "pygments_lexer": "ipython3",
   "version": "3.10.11"
  },
  "orig_nbformat": 4,
  "vscode": {
   "interpreter": {
    "hash": "e25018059e823f3cb59d046ed97dfd9f517ec40dffcb5a38e88bc5272f14cf75"
   }
  }
 },
 "nbformat": 4,
 "nbformat_minor": 2
}
